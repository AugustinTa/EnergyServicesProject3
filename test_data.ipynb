{
 "cells": [
  {
   "cell_type": "markdown",
   "metadata": {},
   "source": [
    "## Importation"
   ]
  },
  {
   "cell_type": "code",
   "execution_count": 4,
   "metadata": {},
   "outputs": [],
   "source": [
    "import pickle\n",
    "import pandas as pd # data science library to manipulate data\n",
    "import numpy as np # mathematical library to manipulate arrays and matrices\n",
    "import matplotlib.pyplot as plt # visualization library\n",
    "from sklearn.feature_selection import SelectKBest # selection method\n",
    "from sklearn.feature_selection import mutual_info_regression,f_regression\n",
    "from sklearn.ensemble import RandomForestRegressor\n",
    "from sklearn.model_selection import train_test_split\n",
    "from sklearn.preprocessing import StandardScaler\n",
    "from sklearn import  linear_model\n",
    "\n",
    "from sklearn.metrics import mean_squared_error\n",
    "from math import sqrt\n",
    "from sklearn import  metrics\n",
    "from sklearn.neural_network import MLPRegressor\n"
   ]
  },
  {
   "cell_type": "markdown",
   "metadata": {},
   "source": [
    "## Clean&Merge Data"
   ]
  },
  {
   "cell_type": "code",
   "execution_count": 5,
   "metadata": {},
   "outputs": [],
   "source": [
    "# regions=['Auvergne-Rhône-Alpes']\n",
    "regions=['Auvergne-Rhône-Alpes','Bourgogne-Franche-Comté','Bretagne','Centre-Val-de-Loire','Grand-Est','Hauts-de-France','Ile-de-France','Normandie','Nouvelle-Aquitaine','Occitanie','PACA','Pays-de-la-Loire']\n"
   ]
  },
  {
   "cell_type": "markdown",
   "metadata": {},
   "source": [
    "### Meteo Data"
   ]
  },
  {
   "cell_type": "code",
   "execution_count": 6,
   "metadata": {},
   "outputs": [
    {
     "name": "stderr",
     "output_type": "stream",
     "text": [
      "C:\\Users\\augus\\AppData\\Local\\Temp\\ipykernel_25100\\764701505.py:4: DtypeWarning: Columns (62) have mixed types. Specify dtype option on import or set low_memory=False.\n",
      "  df_meteo[region]=pd.read_csv('meteo_data/{}.csv'.format(region), sep=';') # loads a csv file into a dataframe\n"
     ]
    }
   ],
   "source": [
    "df_meteo={}\n",
    "\n",
    "for region in regions:\n",
    "    df_meteo[region]=pd.read_csv('meteo_data/{}.csv'.format(region), sep=';') # loads a csv file into a dataframe\n",
    "    df_meteo[region]['Date']=df_meteo[region]['Date'].str.slice(0,19)\n",
    "    df_meteo[region]['Date']=pd.to_datetime(df_meteo[region]['Date'], format='%Y-%m-%dT%H:%M:%S')\n",
    "\n",
    "    df_meteo[region] = df_meteo[region].set_index ('Date', drop = True) # put the date in index\n",
    "    new_hours = {1: 0, 4: 3, 7: 6, 10: 9, 13: 12, 16: 15, 19: 18, 22: 21}\n",
    "    new_index = df_meteo[region].index.map(lambda x: x.replace(hour=new_hours.get(x.hour, x.hour)))\n",
    "    df_meteo[region].index = new_index\n",
    "    df_meteo[region].sort_values('Date', inplace=True) # sort the values by the date\n",
    "\n",
    "# df_meteo[region].head()"
   ]
  },
  {
   "cell_type": "markdown",
   "metadata": {},
   "source": [
    "### Power Data"
   ]
  },
  {
   "cell_type": "code",
   "execution_count": 7,
   "metadata": {},
   "outputs": [
    {
     "name": "stderr",
     "output_type": "stream",
     "text": [
      "C:\\Users\\augus\\AppData\\Local\\Temp\\ipykernel_25100\\3128813564.py:6: DtypeWarning: Columns (12,13,14,15,16) have mixed types. Specify dtype option on import or set low_memory=False.\n",
      "  df2=pd.read_csv('power_data/eCO2mix_RTE_{}_En-cours-Consolide/eCO2mix_RTE_{}_En-cours-Consolide.xls'.format(region, region), delimiter='\\t',encoding='latin-1')\n",
      "C:\\Users\\augus\\AppData\\Local\\Temp\\ipykernel_25100\\3128813564.py:7: DtypeWarning: Columns (4,5,6,7,8,9,10,11,12,13,16,18,20,25,26,28,30,32,37,38,40,44,47,51,54,55,56,57,58,59,60,61,62,63,64,65,66) have mixed types. Specify dtype option on import or set low_memory=False.\n",
      "  df3=pd.read_csv('power_data/eCO2mix_RTE_{}_En-cours-TR/eCO2mix_RTE_{}_En-cours-TR.xls'.format(region, region), delimiter='\\t',encoding='latin-1')\n",
      "C:\\Users\\augus\\AppData\\Local\\Temp\\ipykernel_25100\\3128813564.py:6: DtypeWarning: Columns (12,13,14,19,20) have mixed types. Specify dtype option on import or set low_memory=False.\n",
      "  df2=pd.read_csv('power_data/eCO2mix_RTE_{}_En-cours-Consolide/eCO2mix_RTE_{}_En-cours-Consolide.xls'.format(region, region), delimiter='\\t',encoding='latin-1')\n",
      "C:\\Users\\augus\\AppData\\Local\\Temp\\ipykernel_25100\\3128813564.py:7: DtypeWarning: Columns (4,5,6,7,8,9,10,12,13,16,17,20,21,23,29,32,33,35,47,54,55,56,57,59,60,61,62,63,64,65) have mixed types. Specify dtype option on import or set low_memory=False.\n",
      "  df3=pd.read_csv('power_data/eCO2mix_RTE_{}_En-cours-TR/eCO2mix_RTE_{}_En-cours-TR.xls'.format(region, region), delimiter='\\t',encoding='latin-1')\n",
      "C:\\Users\\augus\\AppData\\Local\\Temp\\ipykernel_25100\\3128813564.py:6: DtypeWarning: Columns (12,13,14,19,20) have mixed types. Specify dtype option on import or set low_memory=False.\n",
      "  df2=pd.read_csv('power_data/eCO2mix_RTE_{}_En-cours-Consolide/eCO2mix_RTE_{}_En-cours-Consolide.xls'.format(region, region), delimiter='\\t',encoding='latin-1')\n",
      "C:\\Users\\augus\\AppData\\Local\\Temp\\ipykernel_25100\\3128813564.py:7: DtypeWarning: Columns (4,5,6,7,8,9,10,12,13,16,24,27,36,39,55,56,57,59,60,61,62,63,64,65) have mixed types. Specify dtype option on import or set low_memory=False.\n",
      "  df3=pd.read_csv('power_data/eCO2mix_RTE_{}_En-cours-TR/eCO2mix_RTE_{}_En-cours-TR.xls'.format(region, region), delimiter='\\t',encoding='latin-1')\n",
      "C:\\Users\\augus\\AppData\\Local\\Temp\\ipykernel_25100\\3128813564.py:6: DtypeWarning: Columns (12,13,14,15,16) have mixed types. Specify dtype option on import or set low_memory=False.\n",
      "  df2=pd.read_csv('power_data/eCO2mix_RTE_{}_En-cours-Consolide/eCO2mix_RTE_{}_En-cours-Consolide.xls'.format(region, region), delimiter='\\t',encoding='latin-1')\n",
      "C:\\Users\\augus\\AppData\\Local\\Temp\\ipykernel_25100\\3128813564.py:7: DtypeWarning: Columns (4,6,7,8,9,10,12,13,16,17,18,23,24,25,27,29,30,35,36,37,39,55,57,58,59,60,61,62,63,64,65) have mixed types. Specify dtype option on import or set low_memory=False.\n",
      "  df3=pd.read_csv('power_data/eCO2mix_RTE_{}_En-cours-TR/eCO2mix_RTE_{}_En-cours-TR.xls'.format(region, region), delimiter='\\t',encoding='latin-1')\n",
      "C:\\Users\\augus\\AppData\\Local\\Temp\\ipykernel_25100\\3128813564.py:6: DtypeWarning: Columns (12,13,14,15,16) have mixed types. Specify dtype option on import or set low_memory=False.\n",
      "  df2=pd.read_csv('power_data/eCO2mix_RTE_{}_En-cours-Consolide/eCO2mix_RTE_{}_En-cours-Consolide.xls'.format(region, region), delimiter='\\t',encoding='latin-1')\n",
      "C:\\Users\\augus\\AppData\\Local\\Temp\\ipykernel_25100\\3128813564.py:7: DtypeWarning: Columns (4,5,6,7,8,9,10,12,13,16,18,22,23,30,34,35,41,42,45,47,48,49,52,54,55,56,57,58,59,60,61,62,63,64,65) have mixed types. Specify dtype option on import or set low_memory=False.\n",
      "  df3=pd.read_csv('power_data/eCO2mix_RTE_{}_En-cours-TR/eCO2mix_RTE_{}_En-cours-TR.xls'.format(region, region), delimiter='\\t',encoding='latin-1')\n",
      "C:\\Users\\augus\\AppData\\Local\\Temp\\ipykernel_25100\\3128813564.py:6: DtypeWarning: Columns (12,13,14,15,16) have mixed types. Specify dtype option on import or set low_memory=False.\n",
      "  df2=pd.read_csv('power_data/eCO2mix_RTE_{}_En-cours-Consolide/eCO2mix_RTE_{}_En-cours-Consolide.xls'.format(region, region), delimiter='\\t',encoding='latin-1')\n",
      "C:\\Users\\augus\\AppData\\Local\\Temp\\ipykernel_25100\\3128813564.py:7: DtypeWarning: Columns (4,5,6,7,8,10,11,12,13,16,21,23,24,33,35,36,42,46,49,53,55,56,57,58,59,60,61,62,63,65,66) have mixed types. Specify dtype option on import or set low_memory=False.\n",
      "  df3=pd.read_csv('power_data/eCO2mix_RTE_{}_En-cours-TR/eCO2mix_RTE_{}_En-cours-TR.xls'.format(region, region), delimiter='\\t',encoding='latin-1')\n",
      "C:\\Users\\augus\\AppData\\Local\\Temp\\ipykernel_25100\\3128813564.py:6: DtypeWarning: Columns (12,13,14,19,20) have mixed types. Specify dtype option on import or set low_memory=False.\n",
      "  df2=pd.read_csv('power_data/eCO2mix_RTE_{}_En-cours-Consolide/eCO2mix_RTE_{}_En-cours-Consolide.xls'.format(region, region), delimiter='\\t',encoding='latin-1')\n",
      "C:\\Users\\augus\\AppData\\Local\\Temp\\ipykernel_25100\\3128813564.py:7: DtypeWarning: Columns (4,5,6,7,8,10,11,12,13,16,18,20,21,22,24,30,32,33,34,36,55,56,57,59,60,61,62,63,65,66) have mixed types. Specify dtype option on import or set low_memory=False.\n",
      "  df3=pd.read_csv('power_data/eCO2mix_RTE_{}_En-cours-TR/eCO2mix_RTE_{}_En-cours-TR.xls'.format(region, region), delimiter='\\t',encoding='latin-1')\n",
      "C:\\Users\\augus\\AppData\\Local\\Temp\\ipykernel_25100\\3128813564.py:6: DtypeWarning: Columns (12,13,14,15,16) have mixed types. Specify dtype option on import or set low_memory=False.\n",
      "  df2=pd.read_csv('power_data/eCO2mix_RTE_{}_En-cours-Consolide/eCO2mix_RTE_{}_En-cours-Consolide.xls'.format(region, region), delimiter='\\t',encoding='latin-1')\n",
      "C:\\Users\\augus\\AppData\\Local\\Temp\\ipykernel_25100\\3128813564.py:7: DtypeWarning: Columns (4,5,6,7,8,10,11,12,13,16,19,20,22,23,27,31,32,34,35,39,46,53,56,58,60,62,66) have mixed types. Specify dtype option on import or set low_memory=False.\n",
      "  df3=pd.read_csv('power_data/eCO2mix_RTE_{}_En-cours-TR/eCO2mix_RTE_{}_En-cours-TR.xls'.format(region, region), delimiter='\\t',encoding='latin-1')\n",
      "C:\\Users\\augus\\AppData\\Local\\Temp\\ipykernel_25100\\3128813564.py:6: DtypeWarning: Columns (12,13,14,15,16) have mixed types. Specify dtype option on import or set low_memory=False.\n",
      "  df2=pd.read_csv('power_data/eCO2mix_RTE_{}_En-cours-Consolide/eCO2mix_RTE_{}_En-cours-Consolide.xls'.format(region, region), delimiter='\\t',encoding='latin-1')\n",
      "C:\\Users\\augus\\AppData\\Local\\Temp\\ipykernel_25100\\3128813564.py:7: DtypeWarning: Columns (4,5,6,7,8,9,10,11,12,13,16,17,20,26,27,29,32,38,39,43,50,55,56,57,58,59,60,61,62,63,64,65,66) have mixed types. Specify dtype option on import or set low_memory=False.\n",
      "  df3=pd.read_csv('power_data/eCO2mix_RTE_{}_En-cours-TR/eCO2mix_RTE_{}_En-cours-TR.xls'.format(region, region), delimiter='\\t',encoding='latin-1')\n",
      "C:\\Users\\augus\\AppData\\Local\\Temp\\ipykernel_25100\\3128813564.py:6: DtypeWarning: Columns (12,13,14,15,16) have mixed types. Specify dtype option on import or set low_memory=False.\n",
      "  df2=pd.read_csv('power_data/eCO2mix_RTE_{}_En-cours-Consolide/eCO2mix_RTE_{}_En-cours-Consolide.xls'.format(region, region), delimiter='\\t',encoding='latin-1')\n",
      "C:\\Users\\augus\\AppData\\Local\\Temp\\ipykernel_25100\\3128813564.py:7: DtypeWarning: Columns (4,6,7,8,9,10,11,12,13,16,17,25,28,29,37,40,43,50,55,57,58,59,60,61,62,63,64,65,66) have mixed types. Specify dtype option on import or set low_memory=False.\n",
      "  df3=pd.read_csv('power_data/eCO2mix_RTE_{}_En-cours-TR/eCO2mix_RTE_{}_En-cours-TR.xls'.format(region, region), delimiter='\\t',encoding='latin-1')\n",
      "C:\\Users\\augus\\AppData\\Local\\Temp\\ipykernel_25100\\3128813564.py:6: DtypeWarning: Columns (12,13,14,19,20) have mixed types. Specify dtype option on import or set low_memory=False.\n",
      "  df2=pd.read_csv('power_data/eCO2mix_RTE_{}_En-cours-Consolide/eCO2mix_RTE_{}_En-cours-Consolide.xls'.format(region, region), delimiter='\\t',encoding='latin-1')\n",
      "C:\\Users\\augus\\AppData\\Local\\Temp\\ipykernel_25100\\3128813564.py:7: DtypeWarning: Columns (4,5,6,7,8,9,10,11,12,13,16,17,26,29,38,44,51,55,56,57,59,60,61,62,63,64,65,66) have mixed types. Specify dtype option on import or set low_memory=False.\n",
      "  df3=pd.read_csv('power_data/eCO2mix_RTE_{}_En-cours-TR/eCO2mix_RTE_{}_En-cours-TR.xls'.format(region, region), delimiter='\\t',encoding='latin-1')\n",
      "C:\\Users\\augus\\AppData\\Local\\Temp\\ipykernel_25100\\3128813564.py:6: DtypeWarning: Columns (12,13,14,19,20) have mixed types. Specify dtype option on import or set low_memory=False.\n",
      "  df2=pd.read_csv('power_data/eCO2mix_RTE_{}_En-cours-Consolide/eCO2mix_RTE_{}_En-cours-Consolide.xls'.format(region, region), delimiter='\\t',encoding='latin-1')\n",
      "C:\\Users\\augus\\AppData\\Local\\Temp\\ipykernel_25100\\3128813564.py:7: DtypeWarning: Columns (4,5,6,7,8,10,12,13,16,19,20,24,25,31,32,36,37,55,56,57,59,60,61,62,63,65) have mixed types. Specify dtype option on import or set low_memory=False.\n",
      "  df3=pd.read_csv('power_data/eCO2mix_RTE_{}_En-cours-TR/eCO2mix_RTE_{}_En-cours-TR.xls'.format(region, region), delimiter='\\t',encoding='latin-1')\n"
     ]
    }
   ],
   "source": [
    "df_power={}\n",
    "# regions=['Auvergne-Rhône-Alpes']\n",
    "for region in regions:\n",
    "    # Import data form the tree csv\n",
    "    df1=pd.read_csv('power_data/eCO2mix_RTE_{}_Annuel-Definitif_2020/eCO2mix_RTE_{}_Annuel-Definitif_2020.xls'.format(region, region), delimiter='\\t',encoding='latin-1')    \n",
    "    df2=pd.read_csv('power_data/eCO2mix_RTE_{}_En-cours-Consolide/eCO2mix_RTE_{}_En-cours-Consolide.xls'.format(region, region), delimiter='\\t',encoding='latin-1')\n",
    "    df3=pd.read_csv('power_data/eCO2mix_RTE_{}_En-cours-TR/eCO2mix_RTE_{}_En-cours-TR.xls'.format(region, region), delimiter='\\t',encoding='latin-1')\n",
    "    \n",
    "    # Concatenate the 3 dataframe\n",
    "    df_power[region] = pd.concat([df1, df2, df3], ignore_index=True) \n",
    "\n",
    "    # Put Date in datetime object and in index\n",
    "    datetime_str = df_power[region]['Date'] + ' ' + df_power[region]['Heures']  \n",
    "    df_power[region]['Date'] = pd.to_datetime(datetime_str, format='%Y-%m-%d %H:%M')\n",
    "    df_power[region] = df_power[region].drop(columns=['Heures'])\n",
    "    df_power[region] = df_power[region].set_index ('Date', drop = True) # put the date in index\n",
    "    df_power[region].sort_values('Date', inplace=True) # sort the values by the date\n",
    "    df_power[region] = df_power[region].iloc[:-3]\n",
    "\n",
    "# df_power[region].head()"
   ]
  },
  {
   "cell_type": "markdown",
   "metadata": {},
   "source": [
    "### Merge Power Data and Meteo Data and dropna"
   ]
  },
  {
   "cell_type": "code",
   "execution_count": 8,
   "metadata": {},
   "outputs": [],
   "source": [
    "df_merged={}\n",
    "# regions=['Auvergne-Rhône-Alpes']\n",
    "for region in regions:\n",
    "    # df_merged[region]=pd.merge(df_power[region], df_meteo[region], left_index=True, right_index=True, how='outer') \n",
    "\n",
    "    df_merged[region] = pd.merge(df_power[region], df_meteo[region], left_index=True, right_index=True, how='inner')\n",
    "    df_merged[region] = df_merged[region][(df_merged[region]['Consommation'] != 'ND') ]#& (df_merged[region]['colonne2'] != 'ND')]\n",
    "    df_merged[region].replace({'-': 0}, inplace=True)\n",
    "    list_colonnes = ['Consommation','Thermique','Nucléaire','Eolien','Solaire','Hydraulique','Pompage','Bioénergies']\n",
    "    for col in list_colonnes:\n",
    "        df_merged[region] = df_merged[region][(df_merged[region][col] != 'ND')]\n",
    "\n",
    "# df_merged[region].head()\n",
    "\n",
    "# df_merged[region].to_csv('merged.csv', index=True)"
   ]
  },
  {
   "cell_type": "code",
   "execution_count": 9,
   "metadata": {},
   "outputs": [
    {
     "data": {
      "image/png": "[encoded data removed]",
      "text/plain": [
       "<Figure size 640x480 with 1 Axes>"
      ]
     },
     "metadata": {},
     "output_type": "display_data"
    }
   ],
   "source": [
    "for col in list_colonnes:\n",
    "    plt.plot(df_merged[region].index, df_merged[region][col])"
   ]
  },
  {
   "cell_type": "markdown",
   "metadata": {},
   "source": [
    "### Outliers removal"
   ]
  },
  {
   "cell_type": "markdown",
   "metadata": {},
   "source": [
    "## Feature Selection for consumption prevision"
   ]
  },
  {
   "cell_type": "code",
   "execution_count": 10,
   "metadata": {},
   "outputs": [],
   "source": [
    "# regions=['Auvergne-Rhône-Alpes']\n",
    "X_cons={}\n",
    "Y_cons={}\n",
    "Z_cons={}\n",
    "df_merged2=df_merged.copy()\n",
    "for region in regions:\n",
    "    df_merged2[region]['Consommation-1']=df_merged2[region]['Consommation'].shift(1)\n",
    "    df_merged2[region] = df_merged2[region].drop(df_merged2[region].index[0])\n",
    "\n",
    "    # Only keep the columns that are interesting\n",
    "    list_variables=[2,149]+list(range(3,149))\n",
    "    variable_to_delete=[1,78,79,80,83,84,85,86,88,89,99,100,101,103,104]+list(range(10,69))+list(range(91,98))+list(range(107,131))+list(range(132,148))\n",
    "    list_variables=[k for k in list_variables if k not in variable_to_delete]\n",
    "\n",
    "    df_merged2[region]=df_merged2[region].iloc[:, list_variables]\n",
    "    df_merged2[region]=df_merged2[region].dropna()\n",
    "    df_merged2[region]['Hour'] = df_merged2[region].index.hour\n",
    "\n",
    "    # Define input and outputs\n",
    "    Z_cons[region]=df_merged2[region].values\n",
    "    Y_cons[region]=Z_cons[region][:,0]\n",
    "    Y_cons[region]=np.array([float(k) for k in Y_cons[region]])\n",
    "    X_cons[region]=Z_cons[region][:,[1]+list(range(9,len(Z_cons[region][1])))]\n",
    "\n",
    "\n",
    "# print(df_merged2[region].columns)\n",
    "# print(df_merged2[region].iloc[:,[1]+list(range(9,len(Z1[region][1])))].columns)\n",
    "# print(Z1[region][:,[1]+list(range(9,len(Z1[region][1])))])\n",
    "# df_merged2[region].head()\n",
    "# df_merged2[region].to_csv('merged2.csv', index=True)"
   ]
  },
  {
   "cell_type": "markdown",
   "metadata": {},
   "source": [
    "### Filter Methods"
   ]
  },
  {
   "cell_type": "code",
   "execution_count": 11,
   "metadata": {},
   "outputs": [],
   "source": [
    "# # regions=['Auvergne-Rhône-Alpes']\n",
    "\n",
    "# for region in regions:\n",
    "#     features=SelectKBest(score_func=mutual_info_regression)\n",
    "#     fit=features.fit(X_cons[region],Y_cons[region]) #calculates the scores using the score_function f_regression of the features\n",
    "#     # print(fit.scores_)\n",
    "#     plt.bar([i for i in range(len(fit.scores_))], fit.scores_)\n",
    "#     plt.title(region)\n",
    "#     plt.show()\n",
    "\n",
    "#     # liste=df_merged2[region].iloc[:,[1]+list(range(9,len(Z1[region][1])))].columns\n",
    "#     # plt.bar(liste, fit.scores_)\n"
   ]
  },
  {
   "cell_type": "markdown",
   "metadata": {},
   "source": [
    "### Embedded methods"
   ]
  },
  {
   "cell_type": "code",
   "execution_count": 12,
   "metadata": {},
   "outputs": [],
   "source": [
    "# # regions=['Auvergne-Rhône-Alpes']\n",
    "\n",
    "# for region in regions:\n",
    "#     model = RandomForestRegressor()\n",
    "#     model.fit(X_cons[region],Y_cons[region])\n",
    "#     # print(model.feature_importances_)\n",
    "#     # plt.bar([i for i in range(len(model.feature_importances_))], model.feature_importances_)\n",
    "#     # plt.title(region)\n",
    "#     # plt.show()"
   ]
  },
  {
   "cell_type": "markdown",
   "metadata": {},
   "source": [
    "## Train Model for consumption prevision"
   ]
  },
  {
   "cell_type": "markdown",
   "metadata": {},
   "source": [
    "### Separation into datasets and normalization"
   ]
  },
  {
   "cell_type": "code",
   "execution_count": 13,
   "metadata": {},
   "outputs": [
    {
     "name": "stdout",
     "output_type": "stream",
     "text": [
      "{'Auvergne-Rhône-Alpes': Index(['Consommation-1', 'mois_de_l_annee', 'Température (°C)',\n",
      "       'Point de rosée'],\n",
      "      dtype='object'), 'Bourgogne-Franche-Comté': Index(['Consommation-1', 'mois_de_l_annee', 'Température (°C)',\n",
      "       'Point de rosée'],\n",
      "      dtype='object'), 'Bretagne': Index(['Consommation-1', 'mois_de_l_annee', 'Température (°C)',\n",
      "       'Point de rosée'],\n",
      "      dtype='object'), 'Centre-Val-de-Loire': Index(['Consommation-1', 'mois_de_l_annee', 'Température (°C)',\n",
      "       'Point de rosée'],\n",
      "      dtype='object'), 'Grand-Est': Index(['Consommation-1', 'mois_de_l_annee', 'Température (°C)',\n",
      "       'Point de rosée'],\n",
      "      dtype='object'), 'Hauts-de-France': Index(['Consommation-1', 'mois_de_l_annee', 'Température (°C)',\n",
      "       'Point de rosée'],\n",
      "      dtype='object'), 'Ile-de-France': Index(['Consommation-1', 'mois_de_l_annee', 'Température (°C)',\n",
      "       'Point de rosée'],\n",
      "      dtype='object'), 'Normandie': Index(['Consommation-1', 'mois_de_l_annee', 'Température (°C)',\n",
      "       'Point de rosée'],\n",
      "      dtype='object'), 'Nouvelle-Aquitaine': Index(['Consommation-1', 'mois_de_l_annee', 'Température (°C)',\n",
      "       'Point de rosée'],\n",
      "      dtype='object'), 'Occitanie': Index(['Consommation-1', 'mois_de_l_annee', 'Température (°C)',\n",
      "       'Point de rosée'],\n",
      "      dtype='object'), 'PACA': Index(['Consommation-1', 'mois_de_l_annee', 'Température (°C)',\n",
      "       'Point de rosée'],\n",
      "      dtype='object'), 'Pays-de-la-Loire': Index(['Consommation-1', 'mois_de_l_annee', 'Température (°C)',\n",
      "       'Point de rosée'],\n",
      "      dtype='object')}\n"
     ]
    }
   ],
   "source": [
    "result={}\n",
    "features_names_cons={}\n",
    "# df_data = df_merged5.copy()\n",
    "X2_cons={}\n",
    "X2_train_cons={}\n",
    "X2_test_cons={}\n",
    "\n",
    "Y_train_cons={}\n",
    "Y_test_cons={}\n",
    "\n",
    "ss_X_cons={}\n",
    "ss_Y_cons={}\n",
    "\n",
    "X2_train_ss_cons={}\n",
    "X2_test_ss_cons={}\n",
    "Y_train_ss_cons={}\n",
    "\n",
    "for region in regions:\n",
    "    X2_cons[region]=X_cons[region][:,[0,19,18,7]]\n",
    "    features_names_cons[region]=df_merged2[region].columns[[1]+list(range(9,len(Z_cons[region][1])))][[0,19,18,7]]\n",
    "\n",
    "    #by default, it chooses randomly 75% of the data for training and 25% for testing  \n",
    "    X2_train_cons[region], X2_test_cons[region], Y_train_cons[region], Y_test_cons[region] = train_test_split(X2_cons[region],Y_cons[region])\n",
    "    ss_X_cons[region] = StandardScaler()\n",
    "    ss_Y_cons[region] = StandardScaler()\n",
    "\n",
    "    # Normalization of the training datas\n",
    "    X2_train_ss_cons[region] = ss_X_cons[region].fit_transform(X2_train_cons[region])  \n",
    "    Y_train_ss_cons[region] = ss_Y_cons[region].fit_transform(Y_train_cons[region].reshape(-1,1))\n",
    "\n",
    "    # Normalization of the test datas\n",
    "    X2_test_ss_cons[region] = ss_X_cons[region].transform(X2_test_cons[region] )\n",
    "\n",
    "# x a partir de z [1]+list(range(9,len(Z_cons[region][1])))\n",
    "# x2 a partir de x [0,19,18,7]\n",
    "\n",
    "# print(len([k for k in Y_cons[region] if isinstance(k, str)]))\n",
    "\n",
    "# print([k for k in range(len(Y_cons[region])) if isinstance(Y_cons[region][k], str)])\n",
    "print(features_names_cons)"
   ]
  },
  {
   "cell_type": "markdown",
   "metadata": {},
   "source": [
    "### Linear Regression"
   ]
  },
  {
   "cell_type": "code",
   "execution_count": 14,
   "metadata": {},
   "outputs": [],
   "source": [
    "# regrLR_cons={}\n",
    "\n",
    "# def LR_cons(region):\n",
    "#     # Create linear regression object\n",
    "#     regr = linear_model.LinearRegression()\n",
    "\n",
    "#     # Train the model using the training sets\n",
    "#     regr.fit(X2_train_ss_cons[region],Y_train_ss_cons[region])\n",
    "\n",
    "#     # Make predictions using the testing set\n",
    "#     y_pred_LR = regr.predict(X2_test_ss_cons[region])\n",
    "#     y_pred_LR = ss_Y_cons[region].inverse_transform(y_pred_LR.reshape(-1,1))\n",
    "\n",
    "#     # plt.plot(Y_test_cons[region]) #[1:200]\n",
    "#     # plt.plot(y_pred_LR) #[1:200]\n",
    "#     # plt.show()\n",
    "#     # plt.scatter(Y_test_cons[region],y_pred_LR)\n",
    "#     # print(y_pred_LR.reshape(1,-1)[0])\n",
    "\n",
    "#     #Evaluate errors\n",
    "#     MAE_LR=metrics.mean_absolute_error(Y_test_cons[region],y_pred_LR) \n",
    "#     MBE_LR=np.mean(Y_test_cons[region]-y_pred_LR) #here we calculate MBE\n",
    "#     MSE_LR=metrics.mean_squared_error(Y_test_cons[region],y_pred_LR)  \n",
    "#     RMSE_LR= np.sqrt(metrics.mean_squared_error(Y_test_cons[region],y_pred_LR))\n",
    "#     cvRMSE_LR=RMSE_LR/np.mean(Y_test_cons[region])\n",
    "#     NMBE_LR=MBE_LR/np.mean(Y_test_cons[region])\n",
    "\n",
    "#     result[region+'LRcons']=[MAE_LR, MBE_LR,MSE_LR, RMSE_LR,cvRMSE_LR,NMBE_LR]\n",
    "\n",
    "#     # print(MAE_LR, MBE_LR,MSE_LR, RMSE_LR,cvRMSE_LR,NMBE_LR)\n",
    "#     return regr\n",
    "# for region in regions:\n",
    "#     regrLR_cons[region]=LR_cons(region)"
   ]
  },
  {
   "cell_type": "markdown",
   "metadata": {},
   "source": [
    "### Random Forest"
   ]
  },
  {
   "cell_type": "code",
   "execution_count": 15,
   "metadata": {},
   "outputs": [],
   "source": [
    "regrRF_cons={}\n",
    "\n",
    "def RF_cons(region,parameter={}):    \n",
    "    RF_model = RandomForestRegressor(**parameter)\n",
    "    #RF_model = RandomForestRegressor()\n",
    "    RF_model.fit(X2_train_ss_cons[region],Y_train_ss_cons[region])\n",
    "    y_pred_RF = RF_model.predict(X2_test_ss_cons[region])\n",
    "    y_pred_RF = ss_Y_cons[region].inverse_transform(y_pred_RF.reshape(-1,1))\n",
    "\n",
    "    # plt.plot(Y_test_cons[region][1:200])\n",
    "    # plt.plot(y_pred_RF[1:200])\n",
    "    # plt.show()\n",
    "    # plt.scatter(Y_test_cons[region],y_pred_RF)\n",
    "\n",
    "    #Evaluate errors\n",
    "    MAE_RF=metrics.mean_absolute_error(Y_test_cons[region],y_pred_RF) \n",
    "    MBE_RF=np.mean(Y_test_cons[region]-y_pred_RF) #here we calculate MBE\n",
    "    MSE_RF=metrics.mean_squared_error(Y_test_cons[region],y_pred_RF)  \n",
    "    RMSE_RF= np.sqrt(metrics.mean_squared_error(Y_test_cons[region],y_pred_RF))\n",
    "    cvRMSE_RF=RMSE_RF/np.mean(Y_test_cons[region])\n",
    "    NMBE_RF=MBE_RF/np.mean(Y_test_cons[region])\n",
    "\n",
    "    result[region+'RFcons']=[MAE_RF,MBE_RF,MSE_RF,RMSE_RF,cvRMSE_RF,NMBE_RF]\n",
    "\n",
    "    print(MAE_RF,MBE_RF,MSE_RF,RMSE_RF,cvRMSE_RF,NMBE_RF)\n",
    "    return RF_model,[MAE_RF,MBE_RF,MSE_RF,RMSE_RF,cvRMSE_RF,NMBE_RF]\n",
    "\n",
    "# for region in regions:\n",
    "#     regrRF_cons[region]=RF_cons(region)"
   ]
  },
  {
   "cell_type": "markdown",
   "metadata": {},
   "source": [
    "### Neural Network"
   ]
  },
  {
   "cell_type": "code",
   "execution_count": 16,
   "metadata": {},
   "outputs": [],
   "source": [
    "# regrNN_cons={}\n",
    "\n",
    "# def NN_cons(region,parameter={}):\n",
    "#     NN_model = MLPRegressor(**parameter)\n",
    "\n",
    "#     NN_model.fit(X2_train_ss_cons[region],Y_train_ss_cons[region])\n",
    "#     y_pred_NN = NN_model.predict(X2_test_ss_cons[region])\n",
    "#     # y_test_NN = y2_test.reshape(-1,1)#It is just one column we have to reshape, otherwise its a line\n",
    "#     y_pred_NN = ss_Y_cons[region].inverse_transform(y_pred_NN.reshape(-1,1))\n",
    "\n",
    "#     plt.plot(Y_test_cons[region][1:200])\n",
    "#     plt.plot(y_pred_NN[1:200])\n",
    "#     plt.show()\n",
    "#     plt.scatter(Y_test_cons[region],y_pred_NN)\n",
    "\n",
    "#     MAE_NN=metrics.mean_absolute_error(Y_test_cons[region],y_pred_NN)\n",
    "#     MBE_NN=np.mean(Y_test_cons[region]-y_pred_NN)\n",
    "#     MSE_NN=metrics.mean_squared_error(Y_test_cons[region],y_pred_NN)  \n",
    "#     RMSE_NN= np.sqrt(metrics.mean_squared_error(Y_test_cons[region],y_pred_NN))\n",
    "#     cvRMSE_NN=RMSE_NN/np.mean(Y_test_cons[region])\n",
    "#     NMBE_NN=MBE_NN/np.mean(Y_test_cons[region])\n",
    "\n",
    "#     result[region+'NNcons']=[MAE_NN,MBE_NN,MSE_NN,RMSE_NN,cvRMSE_NN,NMBE_NN]\n",
    "\n",
    "#     # print(MAE_NN,MBE_NN,MSE_NN,RMSE_NN,cvRMSE_NN,NMBE_NN)\n",
    "#     return NN_model\n",
    "\n",
    "# for region in regions:\n",
    "#     regrNN_cons[region]=NN_cons(region)"
   ]
  },
  {
   "cell_type": "markdown",
   "metadata": {},
   "source": [
    "### Plot of the metrics"
   ]
  },
  {
   "cell_type": "code",
   "execution_count": 17,
   "metadata": {},
   "outputs": [],
   "source": [
    "#Delete the worst models :\n",
    "# del result['AR']\n",
    "\n",
    "# plt.plot(result.keys(), [result[k][0] for k in result.keys()], marker='o', linestyle='-')\n",
    "# plt.show()\n",
    "# plt.plot(result.keys(), [result[k][3] for k in result.keys()], marker='o', linestyle='-')\n",
    "# plt.plot(result.keys(), [result[k][1] for k in result.keys()], marker='o', linestyle='-')\n",
    "# plt.plot(result.keys(), [result[k][2] for k in result.keys()], marker='o', linestyle='-')"
   ]
  },
  {
   "cell_type": "markdown",
   "metadata": {},
   "source": [
    "### Optimization of the parameters for Random Forest"
   ]
  },
  {
   "cell_type": "code",
   "execution_count": 18,
   "metadata": {},
   "outputs": [],
   "source": [
    "# paramsRF_cons={}\n",
    "# for region in regions:\n",
    "#     paramsRF_cons[region] = {\n",
    "#         'n_estimators': 500,\n",
    "#         'max_depth': 40,\n",
    "#         'min_samples_split': 80,\n",
    "#         'min_samples_leaf': 10\n",
    "#     }\n",
    "\n",
    "# # print(RF_cons('Auvergne-Rhône-Alpes',paramsRF_cons[region])[1])"
   ]
  },
  {
   "cell_type": "markdown",
   "metadata": {},
   "source": [
    "## Feature Selection for production prevision"
   ]
  },
  {
   "cell_type": "code",
   "execution_count": 19,
   "metadata": {},
   "outputs": [],
   "source": [
    "# regions=['Auvergne-Rhône-Alpes']\n",
    "X_prod={}\n",
    "Y_prod={}\n",
    "Z_prod={}\n",
    "df_merged3=df_merged.copy()\n",
    "for region in regions:\n",
    "    productions=['Thermique','Nucléaire','Eolien','Solaire','Hydraulique','Pompage','Bioénergies']\n",
    "    for production in productions:\n",
    "        df_merged3[region][production+'-1']=df_merged3[region][production].shift(1)\n",
    "    df_merged3[region] = df_merged3[region].drop(df_merged3[region].index[0])\n",
    "\n",
    "    # Only keep the columns that are interesting\n",
    "    list_variables=[2,149]+list(range(3,157))\n",
    "    variable_to_delete=[1,78,79,80,83,84,85,86,88,89,99,100,101,103,104]+list(range(10,69))+list(range(91,98))+list(range(107,131))+list(range(132,148))\n",
    "    list_variables=[k for k in list_variables if k not in variable_to_delete]\n",
    "\n",
    "    df_merged3[region]=df_merged3[region].iloc[:, list_variables]\n",
    "    df_merged3[region]=df_merged3[region].dropna()\n",
    "    df_merged3[region]['Hour'] = df_merged3[region].index.hour\n",
    "\n",
    "    # Define input and outputs\n",
    "    Z_prod[region]=df_merged3[region].values\n",
    "    Y_prod[region]=Z_prod[region][:,[2,3,4,5,6,7,8]]\n",
    "    X_prod[region]=Z_prod[region][:,list(range(29,36))+list(range(9,28))+[36]]\n",
    "\n",
    "    # Put all values in float\n",
    "    for k in range(Y_prod[region].shape[0]):\n",
    "        for i in range(Y_prod[region].shape[1]):\n",
    "            Y_prod[region][k][i]=float(Y_prod[region][k,i])\n",
    "\n",
    "    for k in range(X_prod[region].shape[0]):\n",
    "        for i in range(X_prod[region].shape[1]):\n",
    "            X_prod[region][k][i]=float(X_prod[region][k,i])\n",
    "\n",
    "\n",
    "# print(df_merged3[region].columns)\n",
    "# print(df_merged3[region].iloc[:,[1]+list(range(9,len(Z1[region][1])))].columns)\n",
    "# df_merged3[region].to_csv('merged3.csv', index=True)\n",
    "# print(X_prod[region])\n",
    "# print(X_prod[region].shape)\n",
    "# print(Y_prod[region].shape)\n",
    "# df_merged3[region].head()\n",
    "\n",
    "# print(df_merged3['Auvergne-Rhône-Alpes'].columns)\n"
   ]
  },
  {
   "cell_type": "markdown",
   "metadata": {},
   "source": [
    "### Filter Methods"
   ]
  },
  {
   "cell_type": "code",
   "execution_count": 20,
   "metadata": {},
   "outputs": [],
   "source": [
    "# # regions=['Auvergne-Rhône-Alpes']\n",
    "# from sklearn.feature_selection import SelectPercentile\n",
    "# for region in regions:\n",
    "#     # features=SelectKBest(score_func=mutual_info_regression)\n",
    "#     features = SelectPercentile(score_func=mutual_info_regression, percentile=50)\n",
    "\n",
    "#     fit=features.fit(X_prod[region],Y_prod[region]) #calculates the scores using the score_function f_regression of the features\n",
    "#     # print(fit.scores_)\n",
    "#     plt.bar([i for i in range(len(fit.scores_))], fit.scores_)\n",
    "#     plt.title(region)\n",
    "#     plt.show()\n",
    "\n",
    "#     # liste=df_merged2[region].iloc[:,[1]+list(range(9,len(Z1[region][1])))].columns\n",
    "#     # plt.bar(liste, fit.scores_)\n"
   ]
  },
  {
   "cell_type": "markdown",
   "metadata": {},
   "source": [
    "### Embedded methods"
   ]
  },
  {
   "cell_type": "code",
   "execution_count": 21,
   "metadata": {},
   "outputs": [
    {
     "name": "stdout",
     "output_type": "stream",
     "text": [
      "[ 1  4 26  5  8  0  3  6 12 25 24 14  2 13 19  7 18 20 10 11 15  9 17 16\n",
      " 23 22 21]\n",
      "[ 2  0  4 26 14  3 20  8  6 19 11 15 13  7 18 10 12 24 25  9 23 17 22 16\n",
      "  5 21  1]\n",
      "[ 2  0 20 11 14  8  3 15 26 19  4  6 13 10  5 18  7 12 24 25  9 23 17 22\n",
      " 16 21  1]\n",
      "[ 1 25  2 20 11 12 10 24 13  6 19  7 18  3  4 26 15 23 22  0  8 14 17  9\n",
      " 16  5 21]\n",
      "[ 1  2  0  4 26  8 19  6 13 20 18 14 15  7 11 10  3 24 25 12  5  9 17 23\n",
      " 22 16 21]\n",
      "[ 2  1  0 11 20  8 19 15 13  6  7 18 10 14 26 24 12 25  3 23  9  4 17 22\n",
      " 16 21  5]\n",
      "[ 0  6 14 24  2 26 12 13  3 15 19 20  8 10  4  7 18 11 25  9 17 16 23 22\n",
      " 21  5  1]\n",
      "[ 1  2  0 11  6 20  8 19 25 13 26 15  4 18  7 14 24 10 12  3 23  9 22 17\n",
      " 16 21  5]\n",
      "[ 1 14  2 26  4  3  0 24 12  6 25 20  8 15 11 19 13 10  7 18  9 17 23 22\n",
      " 16 21  5]\n",
      "[ 1  4 26  2  3 14  5  8 12 24  0  6 25 19 15 13  7 20 11 18 10  9 17 23\n",
      " 22 16 21]\n",
      "[ 0  4 26  3 14  8  6 25 15 19  2 10 24 13 12 18 20  7 11  9 17 16 23  5\n",
      " 22 21  1]\n",
      "[ 0  2 26 20 11 14  3  8 19 13 15 10 24  6 12  7 18  4 25  9 23 17 22 16\n",
      " 21  5  1]\n"
     ]
    }
   ],
   "source": [
    "indexes_features_regions={}\n",
    "for region in regions:\n",
    "    model = RandomForestRegressor()\n",
    "    model.fit(X_prod[region],Y_prod[region])\n",
    "    # plt.bar([i for i in range(len(model.feature_importances_))[7:]], model.feature_importances_[7:])\n",
    "    # plt.title(region)\n",
    "    # plt.show()\n",
    "    indexes_features_regions[region]=np.argsort(model.feature_importances_)[::-1]\n",
    "    print(indexes_features_regions[region])"
   ]
  },
  {
   "cell_type": "markdown",
   "metadata": {},
   "source": [
    "## Train Model for production prevision"
   ]
  },
  {
   "cell_type": "markdown",
   "metadata": {},
   "source": [
    "### Separation into datasets and normalization"
   ]
  },
  {
   "cell_type": "code",
   "execution_count": 34,
   "metadata": {},
   "outputs": [
    {
     "name": "stdout",
     "output_type": "stream",
     "text": [
      "{'Auvergne-Rhône-Alpes': Index(['Nucléaire-1', 'Hydraulique-1', 'Hour', 'Pompage-1',\n",
      "       'Variation de pression en 3 heures', 'Thermique-1', 'Solaire-1',\n",
      "       'Bioénergies-1', 'Température', 'mois_de_l_annee', 'Température (°C)',\n",
      "       'Humidité', 'Eolien-1', 'Point de rosée',\n",
      "       'Variation de pression en 24 heures'],\n",
      "      dtype='object'), 'Bourgogne-Franche-Comté': Index(['Eolien-1', 'Thermique-1', 'Hydraulique-1', 'Hour', 'Humidité',\n",
      "       'Solaire-1', 'Rafale sur les 10 dernières minutes',\n",
      "       'Variation de pression en 3 heures', 'Bioénergies-1',\n",
      "       'Variation de pression en 24 heures', 'Vitesse du vent moyen 10 mn',\n",
      "       'Visibilité horizontale', 'Point de rosée', 'Pression au niveau mer',\n",
      "       'Pression station'],\n",
      "      dtype='object'), 'Bretagne': Index(['Eolien-1', 'Thermique-1', 'Rafale sur les 10 dernières minutes',\n",
      "       'Vitesse du vent moyen 10 mn', 'Humidité',\n",
      "       'Variation de pression en 3 heures', 'Solaire-1',\n",
      "       'Visibilité horizontale', 'Hour', 'Variation de pression en 24 heures',\n",
      "       'Hydraulique-1', 'Bioénergies-1', 'Point de rosée',\n",
      "       'Direction du vent moyen 10 mn', 'Pompage-1'],\n",
      "      dtype='object'), 'Centre-Val-de-Loire': Index(['Nucléaire-1', 'mois_de_l_annee', 'Eolien-1',\n",
      "       'Rafale sur les 10 dernières minutes', 'Vitesse du vent moyen 10 mn',\n",
      "       'Température', 'Direction du vent moyen 10 mn', 'Température (°C)',\n",
      "       'Point de rosée', 'Bioénergies-1', 'Variation de pression en 24 heures',\n",
      "       'Pression au niveau mer', 'Pression station', 'Solaire-1',\n",
      "       'Hydraulique-1'],\n",
      "      dtype='object'), 'Grand-Est': Index(['Nucléaire-1', 'Eolien-1', 'Thermique-1', 'Hydraulique-1', 'Hour',\n",
      "       'Variation de pression en 3 heures',\n",
      "       'Variation de pression en 24 heures', 'Bioénergies-1', 'Point de rosée',\n",
      "       'Rafale sur les 10 dernières minutes', 'Pression station', 'Humidité',\n",
      "       'Visibilité horizontale', 'Pression au niveau mer',\n",
      "       'Vitesse du vent moyen 10 mn'],\n",
      "      dtype='object'), 'Hauts-de-France': Index(['Eolien-1', 'Nucléaire-1', 'Thermique-1', 'Vitesse du vent moyen 10 mn',\n",
      "       'Rafale sur les 10 dernières minutes',\n",
      "       'Variation de pression en 3 heures',\n",
      "       'Variation de pression en 24 heures', 'Visibilité horizontale',\n",
      "       'Point de rosée', 'Bioénergies-1', 'Pression au niveau mer',\n",
      "       'Pression station', 'Direction du vent moyen 10 mn', 'Humidité',\n",
      "       'Hour'],\n",
      "      dtype='object'), 'Ile-de-France': Index(['Thermique-1', 'Bioénergies-1', 'Humidité', 'Température (°C)',\n",
      "       'Eolien-1', 'Hour', 'Température', 'Point de rosée', 'Solaire-1',\n",
      "       'Visibilité horizontale', 'Variation de pression en 24 heures',\n",
      "       'Rafale sur les 10 dernières minutes',\n",
      "       'Variation de pression en 3 heures', 'Direction du vent moyen 10 mn',\n",
      "       'Hydraulique-1'],\n",
      "      dtype='object'), 'Normandie': Index(['Nucléaire-1', 'Eolien-1', 'Thermique-1', 'Vitesse du vent moyen 10 mn',\n",
      "       'Bioénergies-1', 'Rafale sur les 10 dernières minutes',\n",
      "       'Variation de pression en 3 heures',\n",
      "       'Variation de pression en 24 heures', 'mois_de_l_annee',\n",
      "       'Point de rosée', 'Hour', 'Visibilité horizontale', 'Hydraulique-1',\n",
      "       'Pression station', 'Pression au niveau mer'],\n",
      "      dtype='object'), 'Nouvelle-Aquitaine': Index(['Nucléaire-1', 'Humidité', 'Eolien-1', 'Hour', 'Hydraulique-1',\n",
      "       'Solaire-1', 'Thermique-1', 'Température (°C)', 'Température',\n",
      "       'Bioénergies-1', 'mois_de_l_annee',\n",
      "       'Rafale sur les 10 dernières minutes',\n",
      "       'Variation de pression en 3 heures', 'Visibilité horizontale',\n",
      "       'Vitesse du vent moyen 10 mn'],\n",
      "      dtype='object'), 'Occitanie': Index(['Nucléaire-1', 'Hydraulique-1', 'Hour', 'Eolien-1', 'Solaire-1',\n",
      "       'Humidité', 'Pompage-1', 'Variation de pression en 3 heures',\n",
      "       'Température', 'Température (°C)', 'Thermique-1', 'Bioénergies-1',\n",
      "       'mois_de_l_annee', 'Variation de pression en 24 heures',\n",
      "       'Visibilité horizontale'],\n",
      "      dtype='object'), 'PACA': Index(['Thermique-1', 'Hydraulique-1', 'Hour', 'Solaire-1', 'Humidité',\n",
      "       'Variation de pression en 3 heures', 'Bioénergies-1', 'mois_de_l_annee',\n",
      "       'Visibilité horizontale', 'Variation de pression en 24 heures',\n",
      "       'Eolien-1', 'Direction du vent moyen 10 mn', 'Température (°C)',\n",
      "       'Point de rosée', 'Température'],\n",
      "      dtype='object'), 'Pays-de-la-Loire': Index(['Thermique-1', 'Eolien-1', 'Hour',\n",
      "       'Rafale sur les 10 dernières minutes', 'Vitesse du vent moyen 10 mn',\n",
      "       'Humidité', 'Solaire-1', 'Variation de pression en 3 heures',\n",
      "       'Variation de pression en 24 heures', 'Point de rosée',\n",
      "       'Visibilité horizontale', 'Direction du vent moyen 10 mn',\n",
      "       'Température (°C)', 'Bioénergies-1', 'Température'],\n",
      "      dtype='object')}\n"
     ]
    }
   ],
   "source": [
    "# regions=['Auvergne-Rhône-Alpes']\n",
    "result={}\n",
    "features_names_prod={}\n",
    "\n",
    "X2_prod={}\n",
    "X2_train_prod={}\n",
    "X2_test_prod={}\n",
    "\n",
    "Y_train_prod={}\n",
    "Y_test_prod={}\n",
    "\n",
    "ss_X_prod={}\n",
    "ss_Y_prod={}\n",
    "\n",
    "X2_train_ss_prod={}\n",
    "X2_test_ss_prod={}\n",
    "Y_train_ss_prod={}\n",
    "\n",
    "for region in regions:\n",
    "    nb_features=15\n",
    "\n",
    "    X2_prod[region]=X_prod[region][:,indexes_features_regions[region][:nb_features]] # Only select the 10 best columns\n",
    "    \n",
    "    # features_names_prod[region]=df_merged3[region].columns[list(range(29,36))+list(range(9,28))+[36]][indexes_features_regions[region][:10]]\n",
    "    features_names_prod[region]=df_merged3[region].columns[list(range(29,36))+list(range(9,28))+[36]][indexes_features_regions[region][:nb_features]]\n",
    "\n",
    "    #by default, it chooses randomly 75% of the data for training and 25% for testing  \n",
    "    X2_train_prod[region], X2_test_prod[region], Y_train_prod[region], Y_test_prod[region] = train_test_split(X2_prod[region],Y_prod[region])\n",
    "    ss_X_prod[region] = StandardScaler()\n",
    "    ss_Y_prod[region] = StandardScaler()\n",
    "\n",
    "    # Normalization of the training datas\n",
    "    X2_train_ss_prod[region] = ss_X_prod[region].fit_transform(X2_train_prod[region])  \n",
    "    Y_train_ss_prod[region] = ss_Y_prod[region].fit_transform(Y_train_prod[region])#.reshape(-1,1))\n",
    "\n",
    "    # Normalization of the test datas\n",
    "    X2_test_ss_prod[region] = ss_X_prod[region].transform(X2_test_prod[region] )\n",
    "\n",
    "# print(len([k for k in Y_prod[region] if isinstance(k, str)]))\n",
    "\n",
    "# print([k for k in range(len(Y_prod[region])) if isinstance(Y_prod[region][k], str)])\n",
    "# print(X2_train_ss_prod[region].shape)\n",
    "# print(Y_train_ss_prod[region].shape)\n",
    "# print(X2_train_ss_prod[region])\n",
    "# print(Y_train_ss_prod[region])\n",
    "# print(len(X2_prod[region]))\n",
    "# print(X2_prod[region].shape)\n",
    "\n",
    "print(features_names_prod)\n"
   ]
  },
  {
   "cell_type": "markdown",
   "metadata": {},
   "source": [
    "### Linear Regression"
   ]
  },
  {
   "cell_type": "code",
   "execution_count": 25,
   "metadata": {},
   "outputs": [],
   "source": [
    "# regrLR_prod={}\n",
    "\n",
    "# def LR_prod(region):\n",
    "#     # Create linear regression object\n",
    "#     regr = linear_model.LinearRegression()\n",
    "\n",
    "#     # Train the model using the training sets\n",
    "#     regr.fit(X2_train_ss_prod[region],Y_train_ss_prod[region])\n",
    "\n",
    "#     # Make predictions using the testing set\n",
    "#     y_pred_LR = regr.predict(X2_test_ss_prod[region])\n",
    "#     y_pred_LR = ss_Y_prod[region].inverse_transform(y_pred_LR)#.reshape(-1,1))\n",
    "\n",
    "#     # plt.plot(Y_test_prod[region]) #[1:200]\n",
    "#     # plt.plot(y_pred_LR) #[1:200]\n",
    "#     # plt.show()\n",
    "#     # plt.scatter(Y_test_prod[region],y_pred_LR)\n",
    "#     # print(y_pred_LR.reshape(1,-1)[0])\n",
    "\n",
    "#     #Evaluate errors\n",
    "#     MAE_LR=metrics.mean_absolute_error(Y_test_prod[region],y_pred_LR) \n",
    "#     MBE_LR=np.mean(Y_test_prod[region]-y_pred_LR) #here we calculate MBE\n",
    "#     MSE_LR=metrics.mean_squared_error(Y_test_prod[region],y_pred_LR)  \n",
    "#     RMSE_LR= np.sqrt(metrics.mean_squared_error(Y_test_prod[region],y_pred_LR))\n",
    "#     cvRMSE_LR=RMSE_LR/np.mean(Y_test_prod[region])\n",
    "#     NMBE_LR=MBE_LR/np.mean(Y_test_prod[region])\n",
    "\n",
    "#     result[region+'LRprod']=[MAE_LR, MBE_LR,MSE_LR, RMSE_LR,cvRMSE_LR,NMBE_LR]\n",
    "\n",
    "#     # print(MAE_LR, MBE_LR,MSE_LR, RMSE_LR,cvRMSE_LR,NMBE_LR)\n",
    "#     return regr\n",
    "\n",
    "# for region in regions:\n",
    "#     regrLR_prod[region]=LR_prod(region)"
   ]
  },
  {
   "cell_type": "markdown",
   "metadata": {},
   "source": [
    "### Random Forest"
   ]
  },
  {
   "cell_type": "code",
   "execution_count": 26,
   "metadata": {},
   "outputs": [],
   "source": [
    "regrRF_prod={}\n",
    "\n",
    "def RF_prod(region,parameter={}):    \n",
    "    RF_model = RandomForestRegressor(**parameter)\n",
    "    #RF_model = RandomForestRegressor()\n",
    "    RF_model.fit(X2_train_ss_prod[region],Y_train_ss_prod[region])\n",
    "    y_pred_RF = RF_model.predict(X2_test_ss_prod[region])\n",
    "    y_pred_RF = ss_Y_prod[region].inverse_transform(y_pred_RF)#.reshape(-1,1))\n",
    "\n",
    "    # plt.plot(Y_test_prod[region])#[1:200])\n",
    "    # plt.plot(y_pred_RF)#[1:200])\n",
    "    # plt.show()\n",
    "    # plt.scatter(Y_test_prod[region],y_pred_RF)\n",
    "\n",
    "    #Evaluate errors\n",
    "    MAE_RF=metrics.mean_absolute_error(Y_test_prod[region],y_pred_RF) \n",
    "    MBE_RF=np.mean(Y_test_prod[region]-y_pred_RF) #here we calculate MBE\n",
    "    MSE_RF=metrics.mean_squared_error(Y_test_prod[region],y_pred_RF)  \n",
    "    RMSE_RF= np.sqrt(metrics.mean_squared_error(Y_test_prod[region],y_pred_RF))\n",
    "    cvRMSE_RF=RMSE_RF/np.mean(Y_test_prod[region])\n",
    "    NMBE_RF=MBE_RF/np.mean(Y_test_prod[region])\n",
    "\n",
    "    result[region+'RFprod']=[MAE_RF,MBE_RF,MSE_RF,RMSE_RF,cvRMSE_RF,NMBE_RF]\n",
    "\n",
    "    print(MAE_RF,MBE_RF,MSE_RF,RMSE_RF,cvRMSE_RF,NMBE_RF)\n",
    "    return RF_model\n",
    "\n",
    "# for region in regions:\n",
    "#     regrRF_prod[region]=RF_prod(region)\n"
   ]
  },
  {
   "cell_type": "markdown",
   "metadata": {},
   "source": [
    "### Neural Network"
   ]
  },
  {
   "cell_type": "code",
   "execution_count": null,
   "metadata": {},
   "outputs": [],
   "source": [
    "# regrNN_prod={}\n",
    "\n",
    "# def NN_prod(region,parameter={}):\n",
    "#     NN_model = MLPRegressor(**parameter)\n",
    "\n",
    "#     NN_model.fit(X2_train_ss_prod[region],Y_train_ss_prod[region])\n",
    "#     y_pred_NN = NN_model.predict(X2_test_ss_prod[region])\n",
    "#     # y_test_NN = y2_test.reshape(-1,1)#It is just one column we have to reshape, otherwise its a line\n",
    "#     y_pred_NN = ss_Y_prod[region].inverse_transform(y_pred_NN)#.reshape(-1,1))\n",
    "\n",
    "#     plt.plot(Y_test_prod[region])#[1:200])\n",
    "#     plt.plot(y_pred_NN)#[1:200])\n",
    "#     plt.show()\n",
    "#     plt.scatter(Y_test_prod[region],y_pred_NN)\n",
    "\n",
    "#     MAE_NN=metrics.mean_absolute_error(Y_test_prod[region],y_pred_NN)\n",
    "#     MBE_NN=np.mean(Y_test_prod[region]-y_pred_NN)\n",
    "#     MSE_NN=metrics.mean_squared_error(Y_test_prod[region],y_pred_NN)  \n",
    "#     RMSE_NN= np.sqrt(metrics.mean_squared_error(Y_test_prod[region],y_pred_NN))\n",
    "#     cvRMSE_NN=RMSE_NN/np.mean(Y_test_prod[region])\n",
    "#     NMBE_NN=MBE_NN/np.mean(Y_test_prod[region])\n",
    "\n",
    "#     result[region+'NNprod']=[MAE_NN,MBE_NN,MSE_NN,RMSE_NN,cvRMSE_NN,NMBE_NN]\n",
    "\n",
    "#     # print(MAE_NN,MBE_NN,MSE_NN,RMSE_NN,cvRMSE_NN,NMBE_NN)\n",
    "#     return NN_model\n",
    "\n",
    "# for region in regions:\n",
    "#     regrRF_prod[region]=RF_prod(region)"
   ]
  },
  {
   "cell_type": "markdown",
   "metadata": {},
   "source": [
    "### Plot of the metrics"
   ]
  },
  {
   "cell_type": "code",
   "execution_count": null,
   "metadata": {},
   "outputs": [],
   "source": [
    "#Delete the worst models :\n",
    "# del result['AR']\n",
    "\n",
    "# resultLR={'Auvergne-Rhône-AlpesLRprod': [204.15861580508735, -1.4458616988024906, 168095.6484476165, 409.9946931944565, 0.23330304400396806, -0.0008227519554244085], 'Bourgogne-Franche-ComtéLRprod': [20.516756051305162, 0.4136325425216976, 1758.5417238163213, 41.934970177839894, 0.5526247082968004, 0.005450905585093506], 'BretagneLRprod': [30.666824130035042, 0.24253173248391352, 3763.03496757586, 61.34358130705983, 0.6588449003381368, 0.0026048494677439037], 'Centre-Val-de-LoireLRprod': [42.5231123536392, 5.718024608301036, 10883.337537755666, 104.32323584779982, 0.07694843684583019, 0.004217594018044779], 'Grand-EstLRprod': [135.47636796660373, -4.200905271719383, 56062.84077271517, 236.77592946225587, 0.17304018275618657, -0.0030700984581104886], 'Hauts-de-FranceLRprod': [80.79846816851807, -0.057609009880310945, 35262.71898188207, 187.78370265249876, 0.20053363827721535, -6.152048439595018e-05], 'Ile-de-FranceLRprod': [11.919019645547044, -0.11595322786423949, 1887.0651340244654, 43.44036295917042, 0.6840649781327384, -0.0018259410575810293], 'NormandieLRprod': [37.15261685013859, 2.9153040510467343, 17346.046117729395, 131.70438913616127, 0.13686236339154723, 0.003029476884166028], 'Nouvelle-AquitaineLRprod': [76.75485144175086, -1.3853073405526943, 26005.338298790033, 161.261707478217, 0.21067754593785917, -0.0018098106205204783], 'OccitanieLRprod': [129.238478043373, 3.176618782913933, 59245.43537576938, 243.40385242590017, 0.5083434714907997, 0.006634296884027126], 'PACALRprod': [67.4431824456382, 0.7938989188598671, 18634.72115684834, 136.50905155647496, 0.4663312464209598, 0.0027120536560977506], 'Pays-de-la-LoireLRprod': [28.17025721160643, -0.022749539081669563, 4721.1324389313095, 68.71049729794792, 0.525617384051277, -0.00017402804070283692]}\n",
    "# resultRF={'Auvergne-Rhône-AlpesRFprod': [191.50629379552325, -1.5911478547503914, 141500.08110012233, 376.1649652747081, 0.2140526033701915, -0.0009054254704647704], 'Bourgogne-Franche-ComtéRFprod': [19.30836677925691, 0.6212616729584722, 1611.7702598052845, 40.14685865426191, 0.5290607328145522, 0.008187070345791836], 'BretagneRFprod': [31.600018414421434, 1.0443719713122666, 3962.2880514925373, 62.94670802744602, 0.6760628690614707, 0.011216807572921815], 'Centre-Val-de-LoireRFprod': [61.73261224489799, 12.352204081632687, 21934.357400408167, 148.10252327495357, 0.10923987898110435, 0.009110940510597326], 'Grand-EstRFprod': [167.5522406300926, -3.2979694006880234, 87068.86629770964, 295.07434029022187, 0.21564572837468488, -0.0024102163979060134], 'Hauts-de-FranceRFprod': [97.49957508605851, 3.953624139414791, 46545.43168847893, 215.74390301577222, 0.23039225021535062, 0.0042220630537073], 'Ile-de-FranceRFprod': [11.014114717705656, -0.6575478490430243, 1845.0485557628838, 42.95402839970756, 0.6764065605431605, -0.010354551028950137], 'NormandieRFprod': [55.32125112027243, 4.754007886718066, 28281.855833912876, 168.17210182997914, 0.17475827088176676, 0.004940190370463863], 'Nouvelle-AquitaineRFprod': [80.57506941649899, -0.7766368209255776, 26798.454399285696, 163.7023347398738, 0.21386606086849977, -0.0010146236330759602], 'OccitanieRFprod': [108.74634344929682, 2.39541820873424, 42046.593188019455, 205.05265954875946, 0.4282478677085465, 0.0050027770545289195], 'PACARFprod': [67.62740981240982, 2.502204184704181, 18686.158096717187, 136.69732293178674, 0.4669744039560351, 0.008547828755297623], 'Pays-de-la-LoireRFprod': [27.367484791273363, 1.1120285294734427, 4619.2198066079345, 67.96484243053855, 0.5199133187886825, 0.00850672822403915]}\n",
    "\n",
    "# plt.plot(resultLR.keys(), [resultLR[k][0] for k in resultLR.keys()],[resultRF[k][0] for k in resultRF.keys()], marker='o', linestyle='-')\n",
    "# plt.plot(resultRF.keys(), [resultRF[k][0] for k in resultRF.keys()], marker='o', linestyle='-')\n",
    "# plt.show()\n",
    "# plt.plot(result.keys(), [result[k][3] for k in result.keys()], marker='o', linestyle='-')\n",
    "# plt.plot(result.keys(), [result[k][1] for k in result.keys()], marker='o', linestyle='-')\n",
    "# plt.plot(result.keys(), [result[k][2] for k in result.keys()], marker='o', linestyle='-')"
   ]
  },
  {
   "cell_type": "markdown",
   "metadata": {},
   "source": [
    "### Optimization of the parameters for Random Forest"
   ]
  },
  {
   "cell_type": "code",
   "execution_count": 24,
   "metadata": {},
   "outputs": [],
   "source": [
    "regions=['Auvergne-Rhône-Alpes','Bourgogne-Franche-Comté','Bretagne','Centre-Val-de-Loire','Grand-Est','Hauts-de-France','Ile-de-France','Normandie','Nouvelle-Aquitaine','Occitanie','PACA','Pays-de-la-Loire']\n",
    "region='Auvergne-Rhône-Alpes'\n",
    "paramsRF_prod={}\n",
    "for region in regions:\n",
    "    paramsRF_prod[region] = {\n",
    "        'n_estimators': 600,\n",
    "        # 'max_depth': 50,\n",
    "        # 'min_samples_split': 5,\n",
    "        # 'min_samples_leaf': 5\n",
    "    }\n",
    "\n",
    "# print(RF_prod('Auvergne-Rhône-Alpes',paramsRF_prod[region]))\n"
   ]
  },
  {
   "cell_type": "markdown",
   "metadata": {},
   "source": [
    "## Export Model"
   ]
  },
  {
   "cell_type": "markdown",
   "metadata": {},
   "source": [
    "### Export consumption models"
   ]
  },
  {
   "cell_type": "code",
   "execution_count": 13,
   "metadata": {},
   "outputs": [
    {
     "name": "stderr",
     "output_type": "stream",
     "text": [
      "c:\\Users\\augus\\anaconda3\\Lib\\site-packages\\sklearn\\base.py:1151: DataConversionWarning: A column-vector y was passed when a 1d array was expected. Please change the shape of y to (n_samples,), for example using ravel().\n",
      "  return fit_method(estimator, *args, **kwargs)\n",
      "c:\\Users\\augus\\anaconda3\\Lib\\site-packages\\sklearn\\base.py:1151: DataConversionWarning: A column-vector y was passed when a 1d array was expected. Please change the shape of y to (n_samples,), for example using ravel().\n",
      "  return fit_method(estimator, *args, **kwargs)\n",
      "c:\\Users\\augus\\anaconda3\\Lib\\site-packages\\sklearn\\base.py:1151: DataConversionWarning: A column-vector y was passed when a 1d array was expected. Please change the shape of y to (n_samples,), for example using ravel().\n",
      "  return fit_method(estimator, *args, **kwargs)\n",
      "c:\\Users\\augus\\anaconda3\\Lib\\site-packages\\sklearn\\base.py:1151: DataConversionWarning: A column-vector y was passed when a 1d array was expected. Please change the shape of y to (n_samples,), for example using ravel().\n",
      "  return fit_method(estimator, *args, **kwargs)\n",
      "c:\\Users\\augus\\anaconda3\\Lib\\site-packages\\sklearn\\base.py:1151: DataConversionWarning: A column-vector y was passed when a 1d array was expected. Please change the shape of y to (n_samples,), for example using ravel().\n",
      "  return fit_method(estimator, *args, **kwargs)\n",
      "c:\\Users\\augus\\anaconda3\\Lib\\site-packages\\sklearn\\base.py:1151: DataConversionWarning: A column-vector y was passed when a 1d array was expected. Please change the shape of y to (n_samples,), for example using ravel().\n",
      "  return fit_method(estimator, *args, **kwargs)\n",
      "c:\\Users\\augus\\anaconda3\\Lib\\site-packages\\sklearn\\base.py:1151: DataConversionWarning: A column-vector y was passed when a 1d array was expected. Please change the shape of y to (n_samples,), for example using ravel().\n",
      "  return fit_method(estimator, *args, **kwargs)\n",
      "c:\\Users\\augus\\anaconda3\\Lib\\site-packages\\sklearn\\base.py:1151: DataConversionWarning: A column-vector y was passed when a 1d array was expected. Please change the shape of y to (n_samples,), for example using ravel().\n",
      "  return fit_method(estimator, *args, **kwargs)\n",
      "c:\\Users\\augus\\anaconda3\\Lib\\site-packages\\sklearn\\base.py:1151: DataConversionWarning: A column-vector y was passed when a 1d array was expected. Please change the shape of y to (n_samples,), for example using ravel().\n",
      "  return fit_method(estimator, *args, **kwargs)\n",
      "c:\\Users\\augus\\anaconda3\\Lib\\site-packages\\sklearn\\base.py:1151: DataConversionWarning: A column-vector y was passed when a 1d array was expected. Please change the shape of y to (n_samples,), for example using ravel().\n",
      "  return fit_method(estimator, *args, **kwargs)\n",
      "c:\\Users\\augus\\anaconda3\\Lib\\site-packages\\sklearn\\base.py:1151: DataConversionWarning: A column-vector y was passed when a 1d array was expected. Please change the shape of y to (n_samples,), for example using ravel().\n",
      "  return fit_method(estimator, *args, **kwargs)\n",
      "c:\\Users\\augus\\anaconda3\\Lib\\site-packages\\sklearn\\base.py:1151: DataConversionWarning: A column-vector y was passed when a 1d array was expected. Please change the shape of y to (n_samples,), for example using ravel().\n",
      "  return fit_method(estimator, *args, **kwargs)\n"
     ]
    }
   ],
   "source": [
    "# for region in regions:\n",
    "#     with open('models/'+region+'RFcons.pkl','wb') as file:\n",
    "#         pickle.dump((RF_cons(region,paramsRF_cons[region]),ss_Y_cons[region], ss_X_cons[region],features_names_cons[region]), file)"
   ]
  },
  {
   "cell_type": "markdown",
   "metadata": {},
   "source": [
    "### Export production models"
   ]
  },
  {
   "cell_type": "code",
   "execution_count": 36,
   "metadata": {},
   "outputs": [],
   "source": [
    "# # Ajouter features dans le fichier pickle\n",
    "# for region in regions:\n",
    "#     with open('models/'+region+'RFprod.pkl','wb') as file:\n",
    "#         pickle.dump((RF_prod(region,paramsRF_prod[region]),ss_Y_prod[region], ss_X_prod[region],features_names_prod[region]), file)"
   ]
  },
  {
   "cell_type": "markdown",
   "metadata": {},
   "source": [
    "## Export Data"
   ]
  },
  {
   "cell_type": "code",
   "execution_count": 26,
   "metadata": {},
   "outputs": [],
   "source": [
    "# # for region in regions:\n",
    "# with open('data/power&meteo.pkl','wb') as file:\n",
    "#     pickle.dump((df_power, df_meteo,df_merged3), file)"
   ]
  },
  {
   "cell_type": "code",
   "execution_count": null,
   "metadata": {},
   "outputs": [],
   "source": []
  }
 ],
 "metadata": {
  "kernelspec": {
   "display_name": "Python 3 (ipykernel)",
   "language": "python",
   "name": "python3"
  },
  "language_info": {
   "codemirror_mode": {
    "name": "ipython",
    "version": 3
   },
   "file_extension": ".py",
   "mimetype": "text/x-python",
   "name": "python",
   "nbconvert_exporter": "python",
   "pygments_lexer": "ipython3",
   "version": "undefined.undefined.undefined"
  }
 },
 "nbformat": 4,
 "nbformat_minor": 4
}
